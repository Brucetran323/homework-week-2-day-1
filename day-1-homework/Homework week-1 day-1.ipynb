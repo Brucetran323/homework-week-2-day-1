{
 "cells": [
  {
   "cell_type": "markdown",
   "id": "d56765aa",
   "metadata": {},
   "source": [
    "# Question 1\n",
    "Cube Number Test... Print out all cubed numbers up to the total value 1000. Meaning that if the cubed number is over 1000 break the loop."
   ]
  },
  {
   "cell_type": "code",
   "execution_count": 1,
   "id": "3266213a",
   "metadata": {},
   "outputs": [
    {
     "name": "stdout",
     "output_type": "stream",
     "text": [
      "0\n",
      "1\n",
      "8\n",
      "27\n",
      "64\n",
      "125\n",
      "216\n",
      "343\n",
      "512\n",
      "729\n",
      "1000\n"
     ]
    }
   ],
   "source": [
    "for i in range (11):\n",
    "    if i > 11:\n",
    "        break\n",
    "    print(i**3)\n"
   ]
  },
  {
   "cell_type": "markdown",
   "id": "b0586d64",
   "metadata": {},
   "source": [
    "# Question 2\n",
    "Get first prime numbers up to 100"
   ]
  },
  {
   "cell_type": "code",
   "execution_count": 2,
   "id": "9017bf23",
   "metadata": {},
   "outputs": [],
   "source": [
    "nums = list(range(2,101))\n",
    "\n",
    "for n in nums:\n",
    "    for x in range(2,n):\n",
    "        if n % x == 0:\n",
    "            break\n",
    "   "
   ]
  },
  {
   "cell_type": "markdown",
   "id": "458f516f",
   "metadata": {},
   "source": [
    "# Question 3\n",
    "Take in a users input for their age, if they are younger than 18 print kids, if they're 18 to 65 print adults, else print seniors"
   ]
  },
  {
   "cell_type": "code",
   "execution_count": 9,
   "id": "62459de0",
   "metadata": {},
   "outputs": [
    {
     "name": "stdout",
     "output_type": "stream",
     "text": [
      "Welcome to Appa's sky tour! Please type in your age: 1111\n",
      "Seniors over 65: Ride free!\n"
     ]
    }
   ],
   "source": [
    "age_input = input(\"Welcome to Appa's sky tour! Please type in your age: \")\n",
    "\n",
    "thier_age = int (age_input)\n",
    "\n",
    "if thier_age < 18:\n",
    "    print(\"Kids too young to ride! Must be 18!\")\n",
    "elif thier_age >= 18 and thier_age <= 65:\n",
    "    print(\"Adults welcome to ride!\")\n",
    "else:\n",
    "    print(\"Seniors over 65: Ride free!\")"
   ]
  }
 ],
 "metadata": {
  "kernelspec": {
   "display_name": "Python 3 (ipykernel)",
   "language": "python",
   "name": "python3"
  },
  "language_info": {
   "codemirror_mode": {
    "name": "ipython",
    "version": 3
   },
   "file_extension": ".py",
   "mimetype": "text/x-python",
   "name": "python",
   "nbconvert_exporter": "python",
   "pygments_lexer": "ipython3",
   "version": "3.9.13"
  }
 },
 "nbformat": 4,
 "nbformat_minor": 5
}
